{
 "cells": [
  {
   "attachments": {},
   "cell_type": "markdown",
   "metadata": {},
   "source": [
    "# Importing Modules"
   ]
  },
  {
   "cell_type": "code",
   "execution_count": 1,
   "metadata": {},
   "outputs": [],
   "source": [
    "# Importing dataframe and storage modules\n",
    "import pandas as pd\n",
    "import numpy as np\n",
    "\n",
    "# Importing os, json, and time module\n",
    "import os, json, time\n",
    "\n",
    "# Importing SQL modules\n",
    "import pymysql\n",
    "pymysql.install_as_MySQLdb()\n",
    "from sqlalchemy import create_engine\n",
    "\n",
    "# Importing matplotlib and seaborn modules\n",
    "import matplotlib.pyplot as plt\n",
    "import seaborn as sns\n",
    "\n",
    "# Importing tmdb module\n",
    "import tmdbsimple as tmdb\n",
    "from tqdm.notebook import tqdm_notebook as tqdm"
   ]
  },
  {
   "cell_type": "code",
   "execution_count": 2,
   "metadata": {},
   "outputs": [],
   "source": [
    "basic = 'https://datasets.imdbws.com/title.basics.tsv.gz'\n",
    "akas = 'https://datasets.imdbws.com/title.akas.tsv.gz'\n",
    "rating = 'https://datasets.imdbws.com/title.ratings.tsv.gz'"
   ]
  },
  {
   "cell_type": "code",
   "execution_count": 3,
   "metadata": {},
   "outputs": [],
   "source": [
    "basics = pd.read_csv(basic, sep='\\t', low_memory=False)\n",
    "akas_df = pd.read_csv(akas, sep='\\t', low_memory=False)\n",
    "ratings = pd.read_csv(rating, sep='\\t', low_memory=False)"
   ]
  },
  {
   "cell_type": "markdown",
   "metadata": {},
   "source": [
    "# Filtering/Cleaning"
   ]
  },
  {
   "attachments": {},
   "cell_type": "markdown",
   "metadata": {},
   "source": [
    "- For this project I want to break down each dataset into 3 parts. This will allow me to make the code more readable for the user."
   ]
  },
  {
   "attachments": {},
   "cell_type": "markdown",
   "metadata": {},
   "source": [
    "Now I will create a custom function to evaluate imported dataframes using different Pandas methods, this will allow me to view the data for future proccessing."
   ]
  },
  {
   "cell_type": "code",
   "execution_count": 4,
   "metadata": {},
   "outputs": [],
   "source": [
    "# Creating a function that evaluates a given dataset\n",
    "def eval_df(df):\n",
    "    print(df.head())\n",
    "    print(f'Dataset Information Eval: \\n{df.info(memory_usage=True, show_counts=True)}\\n')\n",
    "    print(f'Columns with NULL values: \\n{df.isna().sum()}\\n')\n",
    "    print(f'Duplicated: \\n{df.duplicated().sum()}')"
   ]
  },
  {
   "attachments": {},
   "cell_type": "markdown",
   "metadata": {},
   "source": [
    "# Title Basics"
   ]
  },
  {
   "attachments": {},
   "cell_type": "markdown",
   "metadata": {},
   "source": [
    "- I will now use the function created from earlier to get more insight on the basics dataframe."
   ]
  },
  {
   "cell_type": "code",
   "execution_count": 5,
   "metadata": {},
   "outputs": [
    {
     "name": "stdout",
     "output_type": "stream",
     "text": [
      "      tconst titleType            primaryTitle           originalTitle  \\\n",
      "0  tt0000001     short              Carmencita              Carmencita   \n",
      "1  tt0000002     short  Le clown et ses chiens  Le clown et ses chiens   \n",
      "2  tt0000003     short          Pauvre Pierrot          Pauvre Pierrot   \n",
      "3  tt0000004     short             Un bon bock             Un bon bock   \n",
      "4  tt0000005     short        Blacksmith Scene        Blacksmith Scene   \n",
      "\n",
      "  isAdult startYear endYear runtimeMinutes                    genres  \n",
      "0       0      1894      \\N              1         Documentary,Short  \n",
      "1       0      1892      \\N              5           Animation,Short  \n",
      "2       0      1892      \\N              4  Animation,Comedy,Romance  \n",
      "3       0      1892      \\N             12           Animation,Short  \n",
      "4       0      1893      \\N              1              Comedy,Short  \n",
      "<class 'pandas.core.frame.DataFrame'>\n",
      "RangeIndex: 9684449 entries, 0 to 9684448\n",
      "Data columns (total 9 columns):\n",
      " #   Column          Non-Null Count    Dtype \n",
      "---  ------          --------------    ----- \n",
      " 0   tconst          9684449 non-null  object\n",
      " 1   titleType       9684449 non-null  object\n",
      " 2   primaryTitle    9684438 non-null  object\n",
      " 3   originalTitle   9684438 non-null  object\n",
      " 4   isAdult         9684449 non-null  object\n",
      " 5   startYear       9684449 non-null  object\n",
      " 6   endYear         9684449 non-null  object\n",
      " 7   runtimeMinutes  9684449 non-null  object\n",
      " 8   genres          9684439 non-null  object\n",
      "dtypes: object(9)\n",
      "memory usage: 665.0+ MB\n",
      "Dataset Information Eval: \n",
      "None\n",
      "\n",
      "Columns with NULL values: \n",
      "tconst             0\n",
      "titleType          0\n",
      "primaryTitle      11\n",
      "originalTitle     11\n",
      "isAdult            0\n",
      "startYear          0\n",
      "endYear            0\n",
      "runtimeMinutes     0\n",
      "genres            10\n",
      "dtype: int64\n",
      "\n",
      "Duplicated: \n",
      "0\n"
     ]
    }
   ],
   "source": [
    "# Calling the function to evaluate the dataset\n",
    "eval_df(basics)"
   ]
  },
  {
   "cell_type": "code",
   "execution_count": 6,
   "metadata": {},
   "outputs": [
    {
     "data": {
      "text/plain": [
       "tconst      titleType  primaryTitle                                      originalTitle                                     isAdult  startYear  endYear  runtimeMinutes  genres                    \n",
       "tt0000001   short      Carmencita                                        Carmencita                                        0        1894       \\N       1               Documentary,Short             1\n",
       "tt27074922  movie      The Official SammyClassicSonicFan Roblox Movie 2  The Official SammyClassicSonicFan Roblox Movie 2  0        2015       \\N       \\N              Adventure                     1\n",
       "tt27074899  tvEpisode  Episode #1.4674                                   Episode #1.4674                                   0        1974       \\N       \\N              Drama,Romance                 1\n",
       "tt2707490   tvEpisode  The 25th Anniversary Spectacular                  The 25th Anniversary Spectacular                  0        2013       \\N       \\N              Comedy                        1\n",
       "tt27074900  tvEpisode  Episode #1.4675                                   Episode #1.4675                                   0        1974       \\N       \\N              Drama,Romance                 1\n",
       "                                                                                                                                                                                                     ..\n",
       "tt14126094  tvEpisode  Episode #1.387                                    Episode #1.387                                    0        \\N         \\N       \\N              Drama                         1\n",
       "tt14126096  tvEpisode  Episode #1.388                                    Episode #1.388                                    0        \\N         \\N       \\N              Drama                         1\n",
       "tt14126098  tvEpisode  Episode #1.389                                    Episode #1.389                                    0        \\N         \\N       \\N              Drama                         1\n",
       "tt1412610   movie      Grave Robbers                                     Grave Robbers                                     0        2006       \\N       110             Comedy                        1\n",
       "tt9916880   tvEpisode  Horrid Henry Knows It All                         Horrid Henry Knows It All                         0        2014       \\N       10              Adventure,Animation,Comedy    1\n",
       "Length: 9684428, dtype: int64"
      ]
     },
     "execution_count": 6,
     "metadata": {},
     "output_type": "execute_result"
    }
   ],
   "source": [
    "# Using the value_counts() method to get the number of unique values in the column\n",
    "basics.value_counts()"
   ]
  },
  {
   "attachments": {},
   "cell_type": "markdown",
   "metadata": {},
   "source": [
    "1. Replace \"\\N\" with np.nan."
   ]
  },
  {
   "cell_type": "code",
   "execution_count": 7,
   "metadata": {},
   "outputs": [
    {
     "data": {
      "text/plain": [
       "tconst            0\n",
       "titleType         0\n",
       "primaryTitle      0\n",
       "originalTitle     0\n",
       "isAdult           0\n",
       "startYear         0\n",
       "endYear           0\n",
       "runtimeMinutes    0\n",
       "genres            0\n",
       "dtype: int64"
      ]
     },
     "execution_count": 7,
     "metadata": {},
     "output_type": "execute_result"
    }
   ],
   "source": [
    "# Using the replace() method to replace \\N with np.nan\n",
    "basics.replace({'\\\\N':np.nan}, inplace=True)\n",
    "basics.isin(['\\\\N']).sum()"
   ]
  },
  {
   "attachments": {},
   "cell_type": "markdown",
   "metadata": {},
   "source": [
    "2. Eliminate movies that are null for runtimeMinutes\n",
    "3. Eliminate movies that are null for genres\n",
    "\n",
    "I decided to drop both of these columns within one dropna() method."
   ]
  },
  {
   "cell_type": "code",
   "execution_count": 8,
   "metadata": {},
   "outputs": [
    {
     "name": "stdout",
     "output_type": "stream",
     "text": [
      "tconst                  0\n",
      "titleType               0\n",
      "primaryTitle            1\n",
      "originalTitle           1\n",
      "isAdult                 0\n",
      "startYear          158533\n",
      "endYear           2713526\n",
      "runtimeMinutes          0\n",
      "genres                  0\n",
      "dtype: int64\n"
     ]
    }
   ],
   "source": [
    "# Using the dropna() method to drop rows with null values\n",
    "basics.dropna(subset=['runtimeMinutes', 'genres'], inplace=True)\n",
    "# Checking the number of null values in the dataset\n",
    "print(basics.isna().sum())"
   ]
  },
  {
   "attachments": {},
   "cell_type": "markdown",
   "metadata": {},
   "source": [
    "4. Filter column titleType values to movie."
   ]
  },
  {
   "cell_type": "code",
   "execution_count": 9,
   "metadata": {},
   "outputs": [
    {
     "data": {
      "text/html": [
       "<div>\n",
       "<style scoped>\n",
       "    .dataframe tbody tr th:only-of-type {\n",
       "        vertical-align: middle;\n",
       "    }\n",
       "\n",
       "    .dataframe tbody tr th {\n",
       "        vertical-align: top;\n",
       "    }\n",
       "\n",
       "    .dataframe thead th {\n",
       "        text-align: right;\n",
       "    }\n",
       "</style>\n",
       "<table border=\"1\" class=\"dataframe\">\n",
       "  <thead>\n",
       "    <tr style=\"text-align: right;\">\n",
       "      <th></th>\n",
       "      <th>tconst</th>\n",
       "      <th>titleType</th>\n",
       "      <th>primaryTitle</th>\n",
       "      <th>originalTitle</th>\n",
       "      <th>isAdult</th>\n",
       "      <th>startYear</th>\n",
       "      <th>endYear</th>\n",
       "      <th>runtimeMinutes</th>\n",
       "      <th>genres</th>\n",
       "    </tr>\n",
       "  </thead>\n",
       "  <tbody>\n",
       "    <tr>\n",
       "      <th>8</th>\n",
       "      <td>tt0000009</td>\n",
       "      <td>movie</td>\n",
       "      <td>Miss Jerry</td>\n",
       "      <td>Miss Jerry</td>\n",
       "      <td>0</td>\n",
       "      <td>1894</td>\n",
       "      <td>NaN</td>\n",
       "      <td>45</td>\n",
       "      <td>Romance</td>\n",
       "    </tr>\n",
       "    <tr>\n",
       "      <th>144</th>\n",
       "      <td>tt0000147</td>\n",
       "      <td>movie</td>\n",
       "      <td>The Corbett-Fitzsimmons Fight</td>\n",
       "      <td>The Corbett-Fitzsimmons Fight</td>\n",
       "      <td>0</td>\n",
       "      <td>1897</td>\n",
       "      <td>NaN</td>\n",
       "      <td>100</td>\n",
       "      <td>Documentary,News,Sport</td>\n",
       "    </tr>\n",
       "    <tr>\n",
       "      <th>570</th>\n",
       "      <td>tt0000574</td>\n",
       "      <td>movie</td>\n",
       "      <td>The Story of the Kelly Gang</td>\n",
       "      <td>The Story of the Kelly Gang</td>\n",
       "      <td>0</td>\n",
       "      <td>1906</td>\n",
       "      <td>NaN</td>\n",
       "      <td>70</td>\n",
       "      <td>Action,Adventure,Biography</td>\n",
       "    </tr>\n",
       "    <tr>\n",
       "      <th>587</th>\n",
       "      <td>tt0000591</td>\n",
       "      <td>movie</td>\n",
       "      <td>The Prodigal Son</td>\n",
       "      <td>L'enfant prodigue</td>\n",
       "      <td>0</td>\n",
       "      <td>1907</td>\n",
       "      <td>NaN</td>\n",
       "      <td>90</td>\n",
       "      <td>Drama</td>\n",
       "    </tr>\n",
       "    <tr>\n",
       "      <th>672</th>\n",
       "      <td>tt0000679</td>\n",
       "      <td>movie</td>\n",
       "      <td>The Fairylogue and Radio-Plays</td>\n",
       "      <td>The Fairylogue and Radio-Plays</td>\n",
       "      <td>0</td>\n",
       "      <td>1908</td>\n",
       "      <td>NaN</td>\n",
       "      <td>120</td>\n",
       "      <td>Adventure,Fantasy</td>\n",
       "    </tr>\n",
       "  </tbody>\n",
       "</table>\n",
       "</div>"
      ],
      "text/plain": [
       "        tconst titleType                    primaryTitle  \\\n",
       "8    tt0000009     movie                      Miss Jerry   \n",
       "144  tt0000147     movie   The Corbett-Fitzsimmons Fight   \n",
       "570  tt0000574     movie     The Story of the Kelly Gang   \n",
       "587  tt0000591     movie                The Prodigal Son   \n",
       "672  tt0000679     movie  The Fairylogue and Radio-Plays   \n",
       "\n",
       "                      originalTitle isAdult startYear endYear runtimeMinutes  \\\n",
       "8                        Miss Jerry       0      1894     NaN             45   \n",
       "144   The Corbett-Fitzsimmons Fight       0      1897     NaN            100   \n",
       "570     The Story of the Kelly Gang       0      1906     NaN             70   \n",
       "587               L'enfant prodigue       0      1907     NaN             90   \n",
       "672  The Fairylogue and Radio-Plays       0      1908     NaN            120   \n",
       "\n",
       "                         genres  \n",
       "8                       Romance  \n",
       "144      Documentary,News,Sport  \n",
       "570  Action,Adventure,Biography  \n",
       "587                       Drama  \n",
       "672           Adventure,Fantasy  "
      ]
     },
     "execution_count": 9,
     "metadata": {},
     "output_type": "execute_result"
    }
   ],
   "source": [
    "# Filtering titleType column to get only movies\n",
    "titleType = basics['titleType'] == 'movie'\n",
    "basics_f = basics.loc[titleType]\n",
    "# Checking dataframe to see if the filter worked\n",
    "basics_f.head()"
   ]
  },
  {
   "attachments": {},
   "cell_type": "markdown",
   "metadata": {},
   "source": [
    "5. Filter column startYear values between 2000-2022."
   ]
  },
  {
   "cell_type": "code",
   "execution_count": 10,
   "metadata": {},
   "outputs": [
    {
     "data": {
      "text/html": [
       "<div>\n",
       "<style scoped>\n",
       "    .dataframe tbody tr th:only-of-type {\n",
       "        vertical-align: middle;\n",
       "    }\n",
       "\n",
       "    .dataframe tbody tr th {\n",
       "        vertical-align: top;\n",
       "    }\n",
       "\n",
       "    .dataframe thead th {\n",
       "        text-align: right;\n",
       "    }\n",
       "</style>\n",
       "<table border=\"1\" class=\"dataframe\">\n",
       "  <thead>\n",
       "    <tr style=\"text-align: right;\">\n",
       "      <th></th>\n",
       "      <th>tconst</th>\n",
       "      <th>titleType</th>\n",
       "      <th>primaryTitle</th>\n",
       "      <th>originalTitle</th>\n",
       "      <th>isAdult</th>\n",
       "      <th>startYear</th>\n",
       "      <th>endYear</th>\n",
       "      <th>runtimeMinutes</th>\n",
       "      <th>genres</th>\n",
       "    </tr>\n",
       "  </thead>\n",
       "  <tbody>\n",
       "    <tr>\n",
       "      <th>13082</th>\n",
       "      <td>tt0013274</td>\n",
       "      <td>movie</td>\n",
       "      <td>Istoriya grazhdanskoy voyny</td>\n",
       "      <td>Istoriya grazhdanskoy voyny</td>\n",
       "      <td>0</td>\n",
       "      <td>2021</td>\n",
       "      <td>NaN</td>\n",
       "      <td>133</td>\n",
       "      <td>Documentary</td>\n",
       "    </tr>\n",
       "    <tr>\n",
       "      <th>34803</th>\n",
       "      <td>tt0035423</td>\n",
       "      <td>movie</td>\n",
       "      <td>Kate &amp; Leopold</td>\n",
       "      <td>Kate &amp; Leopold</td>\n",
       "      <td>0</td>\n",
       "      <td>2001</td>\n",
       "      <td>NaN</td>\n",
       "      <td>118</td>\n",
       "      <td>Comedy,Fantasy,Romance</td>\n",
       "    </tr>\n",
       "    <tr>\n",
       "      <th>61116</th>\n",
       "      <td>tt0062336</td>\n",
       "      <td>movie</td>\n",
       "      <td>The Tango of the Widower and Its Distorting Mi...</td>\n",
       "      <td>El tango del viudo y su espejo deformante</td>\n",
       "      <td>0</td>\n",
       "      <td>2020</td>\n",
       "      <td>NaN</td>\n",
       "      <td>70</td>\n",
       "      <td>Drama</td>\n",
       "    </tr>\n",
       "    <tr>\n",
       "      <th>67669</th>\n",
       "      <td>tt0069049</td>\n",
       "      <td>movie</td>\n",
       "      <td>The Other Side of the Wind</td>\n",
       "      <td>The Other Side of the Wind</td>\n",
       "      <td>0</td>\n",
       "      <td>2018</td>\n",
       "      <td>NaN</td>\n",
       "      <td>122</td>\n",
       "      <td>Drama</td>\n",
       "    </tr>\n",
       "    <tr>\n",
       "      <th>76059</th>\n",
       "      <td>tt0077684</td>\n",
       "      <td>movie</td>\n",
       "      <td>Histórias de Combóios em Portugal</td>\n",
       "      <td>Histórias de Combóios em Portugal</td>\n",
       "      <td>0</td>\n",
       "      <td>2022</td>\n",
       "      <td>NaN</td>\n",
       "      <td>46</td>\n",
       "      <td>Documentary</td>\n",
       "    </tr>\n",
       "  </tbody>\n",
       "</table>\n",
       "</div>"
      ],
      "text/plain": [
       "          tconst titleType                                       primaryTitle  \\\n",
       "13082  tt0013274     movie                        Istoriya grazhdanskoy voyny   \n",
       "34803  tt0035423     movie                                     Kate & Leopold   \n",
       "61116  tt0062336     movie  The Tango of the Widower and Its Distorting Mi...   \n",
       "67669  tt0069049     movie                         The Other Side of the Wind   \n",
       "76059  tt0077684     movie                  Histórias de Combóios em Portugal   \n",
       "\n",
       "                                   originalTitle isAdult startYear endYear  \\\n",
       "13082                Istoriya grazhdanskoy voyny       0      2021     NaN   \n",
       "34803                             Kate & Leopold       0      2001     NaN   \n",
       "61116  El tango del viudo y su espejo deformante       0      2020     NaN   \n",
       "67669                 The Other Side of the Wind       0      2018     NaN   \n",
       "76059          Histórias de Combóios em Portugal       0      2022     NaN   \n",
       "\n",
       "      runtimeMinutes                  genres  \n",
       "13082            133             Documentary  \n",
       "34803            118  Comedy,Fantasy,Romance  \n",
       "61116             70                   Drama  \n",
       "67669            122                   Drama  \n",
       "76059             46             Documentary  "
      ]
     },
     "execution_count": 10,
     "metadata": {},
     "output_type": "execute_result"
    }
   ],
   "source": [
    "# Filtering startYear column to get only movies released after 2000\n",
    "df_filter = basics_f['startYear'] >= '2000'\n",
    "basics_f = basics_f.loc[df_filter]\n",
    "# Checking dataframe to see if the filter worked\n",
    "basics_f.head()"
   ]
  },
  {
   "attachments": {},
   "cell_type": "markdown",
   "metadata": {},
   "source": [
    "6. Eliminate movies that include \"Documentary\" in genre."
   ]
  },
  {
   "cell_type": "code",
   "execution_count": 11,
   "metadata": {},
   "outputs": [
    {
     "name": "stdout",
     "output_type": "stream",
     "text": [
      "0\n"
     ]
    }
   ],
   "source": [
    "# Filtering genres column to get only movies that are not documentaries\n",
    "is_doc = basics_f['genres'].str.contains('documentary', case=False)\n",
    "basics_f = basics_f[~is_doc]\n",
    "# Checking if the filter worked\n",
    "print(basics_f['genres'].loc[basics_f['genres']=='Documentary'].sum())"
   ]
  },
  {
   "attachments": {},
   "cell_type": "markdown",
   "metadata": {},
   "source": [
    "----"
   ]
  },
  {
   "attachments": {},
   "cell_type": "markdown",
   "metadata": {},
   "source": [
    "# AKAs"
   ]
  },
  {
   "attachments": {},
   "cell_type": "markdown",
   "metadata": {},
   "source": [
    "- First before the cleaning process I want to use the custom function created earlier to get some information on this data."
   ]
  },
  {
   "cell_type": "code",
   "execution_count": 12,
   "metadata": {},
   "outputs": [
    {
     "name": "stdout",
     "output_type": "stream",
     "text": [
      "     titleId  ordering                      title region language  \\\n",
      "0  tt0000001         1                 Карменсіта     UA       \\N   \n",
      "1  tt0000001         2                 Carmencita     DE       \\N   \n",
      "2  tt0000001         3  Carmencita - spanyol tánc     HU       \\N   \n",
      "3  tt0000001         4                 Καρμενσίτα     GR       \\N   \n",
      "4  tt0000001         5                 Карменсита     RU       \\N   \n",
      "\n",
      "         types     attributes isOriginalTitle  \n",
      "0  imdbDisplay             \\N               0  \n",
      "1           \\N  literal title               0  \n",
      "2  imdbDisplay             \\N               0  \n",
      "3  imdbDisplay             \\N               0  \n",
      "4  imdbDisplay             \\N               0  \n",
      "<class 'pandas.core.frame.DataFrame'>\n",
      "RangeIndex: 35230595 entries, 0 to 35230594\n",
      "Data columns (total 8 columns):\n",
      " #   Column           Non-Null Count     Dtype \n",
      "---  ------           --------------     ----- \n",
      " 0   titleId          35230595 non-null  object\n",
      " 1   ordering         35230595 non-null  int64 \n",
      " 2   title            35230590 non-null  object\n",
      " 3   region           35230485 non-null  object\n",
      " 4   language         35230595 non-null  object\n",
      " 5   types            35230595 non-null  object\n",
      " 6   attributes       35230595 non-null  object\n",
      " 7   isOriginalTitle  35230595 non-null  object\n",
      "dtypes: int64(1), object(7)\n",
      "memory usage: 2.1+ GB\n",
      "Dataset Information Eval: \n",
      "None\n",
      "\n",
      "Columns with NULL values: \n",
      "titleId              0\n",
      "ordering             0\n",
      "title                5\n",
      "region             110\n",
      "language             0\n",
      "types                0\n",
      "attributes           0\n",
      "isOriginalTitle      0\n",
      "dtype: int64\n",
      "\n",
      "Duplicated: \n",
      "0\n"
     ]
    }
   ],
   "source": [
    "eval_df(akas_df)"
   ]
  },
  {
   "cell_type": "code",
   "execution_count": 13,
   "metadata": {},
   "outputs": [
    {
     "data": {
      "text/plain": [
       "titleId     ordering  title             region  language  types        attributes  isOriginalTitle\n",
       "tt0000001   1         Карменсіта        UA      \\N        imdbDisplay  \\N          0                  1\n",
       "tt26074272  7         Folge #1.2786     DE      de        \\N           \\N          0                  1\n",
       "tt26074292  7         Épisode #1.2789   FR      fr        \\N           \\N          0                  1\n",
       "            6         एपिसोड #1.2789    IN      hi        \\N           \\N          0                  1\n",
       "            5         Episodio #1.2789  ES      es        \\N           \\N          0                  1\n",
       "                                                                                                     ..\n",
       "tt13839326  6         エピソード #1.280      JP      ja        \\N           \\N          0                  1\n",
       "            5         Episódio #1.280   PT      pt        \\N           \\N          0                  1\n",
       "            4         एपिसोड #1.280     IN      hi        \\N           \\N          0                  1\n",
       "            3         Episodio #1.280   IT      it        \\N           \\N          0                  1\n",
       "tt9916856   2         The Wind          \\N      \\N        original     \\N          1                  1\n",
       "Length: 35230480, dtype: int64"
      ]
     },
     "execution_count": 13,
     "metadata": {},
     "output_type": "execute_result"
    }
   ],
   "source": [
    "akas_df.value_counts()"
   ]
  },
  {
   "attachments": {},
   "cell_type": "markdown",
   "metadata": {},
   "source": [
    "1. Keep only US movies from the region column."
   ]
  },
  {
   "cell_type": "code",
   "execution_count": 14,
   "metadata": {},
   "outputs": [
    {
     "data": {
      "text/html": [
       "<div>\n",
       "<style scoped>\n",
       "    .dataframe tbody tr th:only-of-type {\n",
       "        vertical-align: middle;\n",
       "    }\n",
       "\n",
       "    .dataframe tbody tr th {\n",
       "        vertical-align: top;\n",
       "    }\n",
       "\n",
       "    .dataframe thead th {\n",
       "        text-align: right;\n",
       "    }\n",
       "</style>\n",
       "<table border=\"1\" class=\"dataframe\">\n",
       "  <thead>\n",
       "    <tr style=\"text-align: right;\">\n",
       "      <th></th>\n",
       "      <th>titleId</th>\n",
       "      <th>ordering</th>\n",
       "      <th>title</th>\n",
       "      <th>region</th>\n",
       "      <th>language</th>\n",
       "      <th>types</th>\n",
       "      <th>attributes</th>\n",
       "      <th>isOriginalTitle</th>\n",
       "    </tr>\n",
       "  </thead>\n",
       "  <tbody>\n",
       "    <tr>\n",
       "      <th>5</th>\n",
       "      <td>tt0000001</td>\n",
       "      <td>6</td>\n",
       "      <td>Carmencita</td>\n",
       "      <td>US</td>\n",
       "      <td>\\N</td>\n",
       "      <td>imdbDisplay</td>\n",
       "      <td>\\N</td>\n",
       "      <td>0</td>\n",
       "    </tr>\n",
       "    <tr>\n",
       "      <th>14</th>\n",
       "      <td>tt0000002</td>\n",
       "      <td>7</td>\n",
       "      <td>The Clown and His Dogs</td>\n",
       "      <td>US</td>\n",
       "      <td>\\N</td>\n",
       "      <td>\\N</td>\n",
       "      <td>literal English title</td>\n",
       "      <td>0</td>\n",
       "    </tr>\n",
       "    <tr>\n",
       "      <th>33</th>\n",
       "      <td>tt0000005</td>\n",
       "      <td>10</td>\n",
       "      <td>Blacksmith Scene</td>\n",
       "      <td>US</td>\n",
       "      <td>\\N</td>\n",
       "      <td>imdbDisplay</td>\n",
       "      <td>\\N</td>\n",
       "      <td>0</td>\n",
       "    </tr>\n",
       "    <tr>\n",
       "      <th>36</th>\n",
       "      <td>tt0000005</td>\n",
       "      <td>1</td>\n",
       "      <td>Blacksmithing Scene</td>\n",
       "      <td>US</td>\n",
       "      <td>\\N</td>\n",
       "      <td>alternative</td>\n",
       "      <td>\\N</td>\n",
       "      <td>0</td>\n",
       "    </tr>\n",
       "    <tr>\n",
       "      <th>41</th>\n",
       "      <td>tt0000005</td>\n",
       "      <td>6</td>\n",
       "      <td>Blacksmith Scene #1</td>\n",
       "      <td>US</td>\n",
       "      <td>\\N</td>\n",
       "      <td>alternative</td>\n",
       "      <td>\\N</td>\n",
       "      <td>0</td>\n",
       "    </tr>\n",
       "  </tbody>\n",
       "</table>\n",
       "</div>"
      ],
      "text/plain": [
       "      titleId  ordering                   title region language        types  \\\n",
       "5   tt0000001         6              Carmencita     US       \\N  imdbDisplay   \n",
       "14  tt0000002         7  The Clown and His Dogs     US       \\N           \\N   \n",
       "33  tt0000005        10        Blacksmith Scene     US       \\N  imdbDisplay   \n",
       "36  tt0000005         1     Blacksmithing Scene     US       \\N  alternative   \n",
       "41  tt0000005         6     Blacksmith Scene #1     US       \\N  alternative   \n",
       "\n",
       "               attributes isOriginalTitle  \n",
       "5                      \\N               0  \n",
       "14  literal English title               0  \n",
       "33                     \\N               0  \n",
       "36                     \\N               0  \n",
       "41                     \\N               0  "
      ]
     },
     "execution_count": 14,
     "metadata": {},
     "output_type": "execute_result"
    }
   ],
   "source": [
    "region_f = akas_df['region'] == 'US'\n",
    "akas_df = akas_df.loc[region_f]\n",
    "akas_df.head()"
   ]
  },
  {
   "attachments": {},
   "cell_type": "markdown",
   "metadata": {},
   "source": [
    "2. Replace \"\\N\" with np.nan"
   ]
  },
  {
   "cell_type": "code",
   "execution_count": 15,
   "metadata": {},
   "outputs": [
    {
     "data": {
      "text/plain": [
       "titleId            0\n",
       "ordering           0\n",
       "title              0\n",
       "region             0\n",
       "language           0\n",
       "types              0\n",
       "attributes         0\n",
       "isOriginalTitle    0\n",
       "dtype: int64"
      ]
     },
     "execution_count": 15,
     "metadata": {},
     "output_type": "execute_result"
    }
   ],
   "source": [
    "akas_df = akas_df.replace({'\\\\N':np.nan})\n",
    "akas_df.isin(['\\\\N']).sum()"
   ]
  },
  {
   "attachments": {},
   "cell_type": "markdown",
   "metadata": {},
   "source": [
    "----"
   ]
  },
  {
   "attachments": {},
   "cell_type": "markdown",
   "metadata": {},
   "source": [
    "# Ratings"
   ]
  },
  {
   "attachments": {},
   "cell_type": "markdown",
   "metadata": {},
   "source": [
    "Again, I will be using eval_df() to evaulate the ratings dataframe."
   ]
  },
  {
   "cell_type": "code",
   "execution_count": 16,
   "metadata": {},
   "outputs": [
    {
     "name": "stdout",
     "output_type": "stream",
     "text": [
      "      tconst  averageRating  numVotes\n",
      "0  tt0000001            5.7      1959\n",
      "1  tt0000002            5.8       263\n",
      "2  tt0000003            6.5      1795\n",
      "3  tt0000004            5.6       179\n",
      "4  tt0000005            6.2      2596\n",
      "<class 'pandas.core.frame.DataFrame'>\n",
      "RangeIndex: 1288262 entries, 0 to 1288261\n",
      "Data columns (total 3 columns):\n",
      " #   Column         Non-Null Count    Dtype  \n",
      "---  ------         --------------    -----  \n",
      " 0   tconst         1288262 non-null  object \n",
      " 1   averageRating  1288262 non-null  float64\n",
      " 2   numVotes       1288262 non-null  int64  \n",
      "dtypes: float64(1), int64(1), object(1)\n",
      "memory usage: 29.5+ MB\n",
      "Dataset Information Eval: \n",
      "None\n",
      "\n",
      "Columns with NULL values: \n",
      "tconst           0\n",
      "averageRating    0\n",
      "numVotes         0\n",
      "dtype: int64\n",
      "\n",
      "Duplicated: \n",
      "0\n"
     ]
    }
   ],
   "source": [
    "eval_df(ratings)"
   ]
  },
  {
   "cell_type": "code",
   "execution_count": 17,
   "metadata": {},
   "outputs": [
    {
     "data": {
      "text/plain": [
       "tconst     averageRating  numVotes\n",
       "tt0000001  5.7            1959        1\n",
       "tt2219622  5.7            655         1\n",
       "tt2219680  9.0            9           1\n",
       "tt2219676  3.4            15          1\n",
       "tt2219674  5.7            34          1\n",
       "                                     ..\n",
       "tt0936227  6.8            10          1\n",
       "tt0936226  7.7            11          1\n",
       "tt0936225  7.2            11          1\n",
       "tt0936224  6.8            10          1\n",
       "tt9916880  8.2            6           1\n",
       "Length: 1288262, dtype: int64"
      ]
     },
     "execution_count": 17,
     "metadata": {},
     "output_type": "execute_result"
    }
   ],
   "source": [
    "ratings.value_counts()"
   ]
  },
  {
   "attachments": {},
   "cell_type": "markdown",
   "metadata": {},
   "source": [
    "1. Replace \"/N\" with np.nan (if any)."
   ]
  },
  {
   "cell_type": "code",
   "execution_count": 18,
   "metadata": {},
   "outputs": [
    {
     "data": {
      "text/plain": [
       "tconst           0\n",
       "averageRating    0\n",
       "numVotes         0\n",
       "dtype: int64"
      ]
     },
     "execution_count": 18,
     "metadata": {},
     "output_type": "execute_result"
    }
   ],
   "source": [
    "ratings = ratings.replace({'\\\\N':np.nan})\n",
    "ratings.isin(['\\\\N']).sum()"
   ]
  },
  {
   "attachments": {},
   "cell_type": "markdown",
   "metadata": {},
   "source": [
    "# Other filtering"
   ]
  },
  {
   "attachments": {},
   "cell_type": "markdown",
   "metadata": {},
   "source": [
    "Now I will filter both dataframes basics and ratings to only have movies produced in this US."
   ]
  },
  {
   "cell_type": "code",
   "execution_count": 19,
   "metadata": {},
   "outputs": [
    {
     "name": "stderr",
     "output_type": "stream",
     "text": [
      "C:\\Users\\zachd\\AppData\\Local\\Temp\\ipykernel_23932\\751135143.py:2: UserWarning: Boolean Series key will be reindexed to match DataFrame index.\n",
      "  basics_f = basics_f[keepers]\n"
     ]
    },
    {
     "data": {
      "text/html": [
       "<div>\n",
       "<style scoped>\n",
       "    .dataframe tbody tr th:only-of-type {\n",
       "        vertical-align: middle;\n",
       "    }\n",
       "\n",
       "    .dataframe tbody tr th {\n",
       "        vertical-align: top;\n",
       "    }\n",
       "\n",
       "    .dataframe thead th {\n",
       "        text-align: right;\n",
       "    }\n",
       "</style>\n",
       "<table border=\"1\" class=\"dataframe\">\n",
       "  <thead>\n",
       "    <tr style=\"text-align: right;\">\n",
       "      <th></th>\n",
       "      <th>tconst</th>\n",
       "      <th>titleType</th>\n",
       "      <th>primaryTitle</th>\n",
       "      <th>originalTitle</th>\n",
       "      <th>isAdult</th>\n",
       "      <th>startYear</th>\n",
       "      <th>endYear</th>\n",
       "      <th>runtimeMinutes</th>\n",
       "      <th>genres</th>\n",
       "    </tr>\n",
       "  </thead>\n",
       "  <tbody>\n",
       "    <tr>\n",
       "      <th>34803</th>\n",
       "      <td>tt0035423</td>\n",
       "      <td>movie</td>\n",
       "      <td>Kate &amp; Leopold</td>\n",
       "      <td>Kate &amp; Leopold</td>\n",
       "      <td>0</td>\n",
       "      <td>2001</td>\n",
       "      <td>NaN</td>\n",
       "      <td>118</td>\n",
       "      <td>Comedy,Fantasy,Romance</td>\n",
       "    </tr>\n",
       "    <tr>\n",
       "      <th>61116</th>\n",
       "      <td>tt0062336</td>\n",
       "      <td>movie</td>\n",
       "      <td>The Tango of the Widower and Its Distorting Mi...</td>\n",
       "      <td>El tango del viudo y su espejo deformante</td>\n",
       "      <td>0</td>\n",
       "      <td>2020</td>\n",
       "      <td>NaN</td>\n",
       "      <td>70</td>\n",
       "      <td>Drama</td>\n",
       "    </tr>\n",
       "    <tr>\n",
       "      <th>67669</th>\n",
       "      <td>tt0069049</td>\n",
       "      <td>movie</td>\n",
       "      <td>The Other Side of the Wind</td>\n",
       "      <td>The Other Side of the Wind</td>\n",
       "      <td>0</td>\n",
       "      <td>2018</td>\n",
       "      <td>NaN</td>\n",
       "      <td>122</td>\n",
       "      <td>Drama</td>\n",
       "    </tr>\n",
       "    <tr>\n",
       "      <th>86801</th>\n",
       "      <td>tt0088751</td>\n",
       "      <td>movie</td>\n",
       "      <td>The Naked Monster</td>\n",
       "      <td>The Naked Monster</td>\n",
       "      <td>0</td>\n",
       "      <td>2005</td>\n",
       "      <td>NaN</td>\n",
       "      <td>100</td>\n",
       "      <td>Comedy,Horror,Sci-Fi</td>\n",
       "    </tr>\n",
       "    <tr>\n",
       "      <th>93938</th>\n",
       "      <td>tt0096056</td>\n",
       "      <td>movie</td>\n",
       "      <td>Crime and Punishment</td>\n",
       "      <td>Crime and Punishment</td>\n",
       "      <td>0</td>\n",
       "      <td>2002</td>\n",
       "      <td>NaN</td>\n",
       "      <td>126</td>\n",
       "      <td>Drama</td>\n",
       "    </tr>\n",
       "  </tbody>\n",
       "</table>\n",
       "</div>"
      ],
      "text/plain": [
       "          tconst titleType                                       primaryTitle  \\\n",
       "34803  tt0035423     movie                                     Kate & Leopold   \n",
       "61116  tt0062336     movie  The Tango of the Widower and Its Distorting Mi...   \n",
       "67669  tt0069049     movie                         The Other Side of the Wind   \n",
       "86801  tt0088751     movie                                  The Naked Monster   \n",
       "93938  tt0096056     movie                               Crime and Punishment   \n",
       "\n",
       "                                   originalTitle isAdult startYear endYear  \\\n",
       "34803                             Kate & Leopold       0      2001     NaN   \n",
       "61116  El tango del viudo y su espejo deformante       0      2020     NaN   \n",
       "67669                 The Other Side of the Wind       0      2018     NaN   \n",
       "86801                          The Naked Monster       0      2005     NaN   \n",
       "93938                       Crime and Punishment       0      2002     NaN   \n",
       "\n",
       "      runtimeMinutes                  genres  \n",
       "34803            118  Comedy,Fantasy,Romance  \n",
       "61116             70                   Drama  \n",
       "67669            122                   Drama  \n",
       "86801            100    Comedy,Horror,Sci-Fi  \n",
       "93938            126                   Drama  "
      ]
     },
     "execution_count": 19,
     "metadata": {},
     "output_type": "execute_result"
    }
   ],
   "source": [
    "keepers = basics['tconst'].isin(akas_df['titleId'])\n",
    "basics_f = basics_f[keepers]\n",
    "basics_f.head()"
   ]
  },
  {
   "cell_type": "code",
   "execution_count": 20,
   "metadata": {},
   "outputs": [
    {
     "data": {
      "text/html": [
       "<div>\n",
       "<style scoped>\n",
       "    .dataframe tbody tr th:only-of-type {\n",
       "        vertical-align: middle;\n",
       "    }\n",
       "\n",
       "    .dataframe tbody tr th {\n",
       "        vertical-align: top;\n",
       "    }\n",
       "\n",
       "    .dataframe thead th {\n",
       "        text-align: right;\n",
       "    }\n",
       "</style>\n",
       "<table border=\"1\" class=\"dataframe\">\n",
       "  <thead>\n",
       "    <tr style=\"text-align: right;\">\n",
       "      <th></th>\n",
       "      <th>tconst</th>\n",
       "      <th>averageRating</th>\n",
       "      <th>numVotes</th>\n",
       "    </tr>\n",
       "  </thead>\n",
       "  <tbody>\n",
       "    <tr>\n",
       "      <th>0</th>\n",
       "      <td>tt0000001</td>\n",
       "      <td>5.7</td>\n",
       "      <td>1959</td>\n",
       "    </tr>\n",
       "    <tr>\n",
       "      <th>1</th>\n",
       "      <td>tt0000002</td>\n",
       "      <td>5.8</td>\n",
       "      <td>263</td>\n",
       "    </tr>\n",
       "    <tr>\n",
       "      <th>4</th>\n",
       "      <td>tt0000005</td>\n",
       "      <td>6.2</td>\n",
       "      <td>2596</td>\n",
       "    </tr>\n",
       "    <tr>\n",
       "      <th>5</th>\n",
       "      <td>tt0000006</td>\n",
       "      <td>5.1</td>\n",
       "      <td>177</td>\n",
       "    </tr>\n",
       "    <tr>\n",
       "      <th>6</th>\n",
       "      <td>tt0000007</td>\n",
       "      <td>5.4</td>\n",
       "      <td>815</td>\n",
       "    </tr>\n",
       "  </tbody>\n",
       "</table>\n",
       "</div>"
      ],
      "text/plain": [
       "      tconst  averageRating  numVotes\n",
       "0  tt0000001            5.7      1959\n",
       "1  tt0000002            5.8       263\n",
       "4  tt0000005            6.2      2596\n",
       "5  tt0000006            5.1       177\n",
       "6  tt0000007            5.4       815"
      ]
     },
     "execution_count": 20,
     "metadata": {},
     "output_type": "execute_result"
    }
   ],
   "source": [
    "keepers = ratings['tconst'].isin(akas_df['titleId'])\n",
    "ratings = ratings[keepers]\n",
    "ratings.head()"
   ]
  },
  {
   "attachments": {},
   "cell_type": "markdown",
   "metadata": {},
   "source": [
    "# Storing Dataframes Filtered"
   ]
  },
  {
   "cell_type": "code",
   "execution_count": 21,
   "metadata": {},
   "outputs": [
    {
     "data": {
      "text/plain": [
       "['final_tmdb_data_2000.csv.gz',\n",
       " 'final_tmdb_data_2001.csv.gz',\n",
       " 'title_akas_df.cvs.gz',\n",
       " 'title_basics_f.cvs.gz',\n",
       " 'title_ratings.cvs.gz',\n",
       " 'tmdb_api_results_2000.json',\n",
       " 'tmdb_api_results_2001.json']"
      ]
     },
     "execution_count": 21,
     "metadata": {},
     "output_type": "execute_result"
    }
   ],
   "source": [
    "# Using make_dirs() method to create a directory\n",
    "os.makedirs('Data/', exist_ok=True)\n",
    "# Using the listdir() method to list the files in the directory\n",
    "os.listdir(\"Data/\")"
   ]
  },
  {
   "cell_type": "code",
   "execution_count": 22,
   "metadata": {},
   "outputs": [
    {
     "data": {
      "text/html": [
       "<div>\n",
       "<style scoped>\n",
       "    .dataframe tbody tr th:only-of-type {\n",
       "        vertical-align: middle;\n",
       "    }\n",
       "\n",
       "    .dataframe tbody tr th {\n",
       "        vertical-align: top;\n",
       "    }\n",
       "\n",
       "    .dataframe thead th {\n",
       "        text-align: right;\n",
       "    }\n",
       "</style>\n",
       "<table border=\"1\" class=\"dataframe\">\n",
       "  <thead>\n",
       "    <tr style=\"text-align: right;\">\n",
       "      <th></th>\n",
       "      <th>tconst</th>\n",
       "      <th>titleType</th>\n",
       "      <th>primaryTitle</th>\n",
       "      <th>originalTitle</th>\n",
       "      <th>isAdult</th>\n",
       "      <th>startYear</th>\n",
       "      <th>endYear</th>\n",
       "      <th>runtimeMinutes</th>\n",
       "      <th>genres</th>\n",
       "    </tr>\n",
       "  </thead>\n",
       "  <tbody>\n",
       "    <tr>\n",
       "      <th>0</th>\n",
       "      <td>tt0035423</td>\n",
       "      <td>movie</td>\n",
       "      <td>Kate &amp; Leopold</td>\n",
       "      <td>Kate &amp; Leopold</td>\n",
       "      <td>0</td>\n",
       "      <td>2001</td>\n",
       "      <td>NaN</td>\n",
       "      <td>118</td>\n",
       "      <td>Comedy,Fantasy,Romance</td>\n",
       "    </tr>\n",
       "    <tr>\n",
       "      <th>1</th>\n",
       "      <td>tt0062336</td>\n",
       "      <td>movie</td>\n",
       "      <td>The Tango of the Widower and Its Distorting Mi...</td>\n",
       "      <td>El tango del viudo y su espejo deformante</td>\n",
       "      <td>0</td>\n",
       "      <td>2020</td>\n",
       "      <td>NaN</td>\n",
       "      <td>70</td>\n",
       "      <td>Drama</td>\n",
       "    </tr>\n",
       "    <tr>\n",
       "      <th>2</th>\n",
       "      <td>tt0069049</td>\n",
       "      <td>movie</td>\n",
       "      <td>The Other Side of the Wind</td>\n",
       "      <td>The Other Side of the Wind</td>\n",
       "      <td>0</td>\n",
       "      <td>2018</td>\n",
       "      <td>NaN</td>\n",
       "      <td>122</td>\n",
       "      <td>Drama</td>\n",
       "    </tr>\n",
       "    <tr>\n",
       "      <th>3</th>\n",
       "      <td>tt0088751</td>\n",
       "      <td>movie</td>\n",
       "      <td>The Naked Monster</td>\n",
       "      <td>The Naked Monster</td>\n",
       "      <td>0</td>\n",
       "      <td>2005</td>\n",
       "      <td>NaN</td>\n",
       "      <td>100</td>\n",
       "      <td>Comedy,Horror,Sci-Fi</td>\n",
       "    </tr>\n",
       "    <tr>\n",
       "      <th>4</th>\n",
       "      <td>tt0096056</td>\n",
       "      <td>movie</td>\n",
       "      <td>Crime and Punishment</td>\n",
       "      <td>Crime and Punishment</td>\n",
       "      <td>0</td>\n",
       "      <td>2002</td>\n",
       "      <td>NaN</td>\n",
       "      <td>126</td>\n",
       "      <td>Drama</td>\n",
       "    </tr>\n",
       "  </tbody>\n",
       "</table>\n",
       "</div>"
      ],
      "text/plain": [
       "      tconst titleType                                       primaryTitle  \\\n",
       "0  tt0035423     movie                                     Kate & Leopold   \n",
       "1  tt0062336     movie  The Tango of the Widower and Its Distorting Mi...   \n",
       "2  tt0069049     movie                         The Other Side of the Wind   \n",
       "3  tt0088751     movie                                  The Naked Monster   \n",
       "4  tt0096056     movie                               Crime and Punishment   \n",
       "\n",
       "                               originalTitle  isAdult  startYear  endYear  \\\n",
       "0                             Kate & Leopold        0       2001      NaN   \n",
       "1  El tango del viudo y su espejo deformante        0       2020      NaN   \n",
       "2                 The Other Side of the Wind        0       2018      NaN   \n",
       "3                          The Naked Monster        0       2005      NaN   \n",
       "4                       Crime and Punishment        0       2002      NaN   \n",
       "\n",
       "   runtimeMinutes                  genres  \n",
       "0             118  Comedy,Fantasy,Romance  \n",
       "1              70                   Drama  \n",
       "2             122                   Drama  \n",
       "3             100    Comedy,Horror,Sci-Fi  \n",
       "4             126                   Drama  "
      ]
     },
     "execution_count": 22,
     "metadata": {},
     "output_type": "execute_result"
    }
   ],
   "source": [
    "# Using the to_csv() method to save the dataframe as a csv file\n",
    "basics_f.to_csv(\"Data/title_basics_f.cvs.gz\", compression='gzip', index=False)\n",
    "# Checking if csv file was created\n",
    "basics = pd.read_csv(\"Data/title_basics_f.cvs.gz\", low_memory=False)\n",
    "basics.head()"
   ]
  },
  {
   "cell_type": "code",
   "execution_count": 23,
   "metadata": {},
   "outputs": [
    {
     "data": {
      "text/html": [
       "<div>\n",
       "<style scoped>\n",
       "    .dataframe tbody tr th:only-of-type {\n",
       "        vertical-align: middle;\n",
       "    }\n",
       "\n",
       "    .dataframe tbody tr th {\n",
       "        vertical-align: top;\n",
       "    }\n",
       "\n",
       "    .dataframe thead th {\n",
       "        text-align: right;\n",
       "    }\n",
       "</style>\n",
       "<table border=\"1\" class=\"dataframe\">\n",
       "  <thead>\n",
       "    <tr style=\"text-align: right;\">\n",
       "      <th></th>\n",
       "      <th>titleId</th>\n",
       "      <th>ordering</th>\n",
       "      <th>title</th>\n",
       "      <th>region</th>\n",
       "      <th>language</th>\n",
       "      <th>types</th>\n",
       "      <th>attributes</th>\n",
       "      <th>isOriginalTitle</th>\n",
       "    </tr>\n",
       "  </thead>\n",
       "  <tbody>\n",
       "    <tr>\n",
       "      <th>0</th>\n",
       "      <td>tt0000001</td>\n",
       "      <td>6</td>\n",
       "      <td>Carmencita</td>\n",
       "      <td>US</td>\n",
       "      <td>NaN</td>\n",
       "      <td>imdbDisplay</td>\n",
       "      <td>NaN</td>\n",
       "      <td>0.0</td>\n",
       "    </tr>\n",
       "    <tr>\n",
       "      <th>1</th>\n",
       "      <td>tt0000002</td>\n",
       "      <td>7</td>\n",
       "      <td>The Clown and His Dogs</td>\n",
       "      <td>US</td>\n",
       "      <td>NaN</td>\n",
       "      <td>NaN</td>\n",
       "      <td>literal English title</td>\n",
       "      <td>0.0</td>\n",
       "    </tr>\n",
       "    <tr>\n",
       "      <th>2</th>\n",
       "      <td>tt0000005</td>\n",
       "      <td>10</td>\n",
       "      <td>Blacksmith Scene</td>\n",
       "      <td>US</td>\n",
       "      <td>NaN</td>\n",
       "      <td>imdbDisplay</td>\n",
       "      <td>NaN</td>\n",
       "      <td>0.0</td>\n",
       "    </tr>\n",
       "    <tr>\n",
       "      <th>3</th>\n",
       "      <td>tt0000005</td>\n",
       "      <td>1</td>\n",
       "      <td>Blacksmithing Scene</td>\n",
       "      <td>US</td>\n",
       "      <td>NaN</td>\n",
       "      <td>alternative</td>\n",
       "      <td>NaN</td>\n",
       "      <td>0.0</td>\n",
       "    </tr>\n",
       "    <tr>\n",
       "      <th>4</th>\n",
       "      <td>tt0000005</td>\n",
       "      <td>6</td>\n",
       "      <td>Blacksmith Scene #1</td>\n",
       "      <td>US</td>\n",
       "      <td>NaN</td>\n",
       "      <td>alternative</td>\n",
       "      <td>NaN</td>\n",
       "      <td>0.0</td>\n",
       "    </tr>\n",
       "  </tbody>\n",
       "</table>\n",
       "</div>"
      ],
      "text/plain": [
       "     titleId  ordering                   title region language        types  \\\n",
       "0  tt0000001         6              Carmencita     US      NaN  imdbDisplay   \n",
       "1  tt0000002         7  The Clown and His Dogs     US      NaN          NaN   \n",
       "2  tt0000005        10        Blacksmith Scene     US      NaN  imdbDisplay   \n",
       "3  tt0000005         1     Blacksmithing Scene     US      NaN  alternative   \n",
       "4  tt0000005         6     Blacksmith Scene #1     US      NaN  alternative   \n",
       "\n",
       "              attributes  isOriginalTitle  \n",
       "0                    NaN              0.0  \n",
       "1  literal English title              0.0  \n",
       "2                    NaN              0.0  \n",
       "3                    NaN              0.0  \n",
       "4                    NaN              0.0  "
      ]
     },
     "execution_count": 23,
     "metadata": {},
     "output_type": "execute_result"
    }
   ],
   "source": [
    "# Using the to_csv() method to save the dataframe as a csv file\n",
    "akas_df.to_csv(\"Data/title_akas_df.cvs.gz\", compression='gzip', index=False)\n",
    "# Checking if csv file was created\n",
    "akas_df = pd.read_csv(\"Data/title_akas_df.cvs.gz\", low_memory=False)\n",
    "akas_df.head()"
   ]
  },
  {
   "cell_type": "code",
   "execution_count": 24,
   "metadata": {},
   "outputs": [
    {
     "data": {
      "text/html": [
       "<div>\n",
       "<style scoped>\n",
       "    .dataframe tbody tr th:only-of-type {\n",
       "        vertical-align: middle;\n",
       "    }\n",
       "\n",
       "    .dataframe tbody tr th {\n",
       "        vertical-align: top;\n",
       "    }\n",
       "\n",
       "    .dataframe thead th {\n",
       "        text-align: right;\n",
       "    }\n",
       "</style>\n",
       "<table border=\"1\" class=\"dataframe\">\n",
       "  <thead>\n",
       "    <tr style=\"text-align: right;\">\n",
       "      <th></th>\n",
       "      <th>tconst</th>\n",
       "      <th>averageRating</th>\n",
       "      <th>numVotes</th>\n",
       "    </tr>\n",
       "  </thead>\n",
       "  <tbody>\n",
       "    <tr>\n",
       "      <th>0</th>\n",
       "      <td>tt0000001</td>\n",
       "      <td>5.7</td>\n",
       "      <td>1959</td>\n",
       "    </tr>\n",
       "    <tr>\n",
       "      <th>1</th>\n",
       "      <td>tt0000002</td>\n",
       "      <td>5.8</td>\n",
       "      <td>263</td>\n",
       "    </tr>\n",
       "    <tr>\n",
       "      <th>2</th>\n",
       "      <td>tt0000005</td>\n",
       "      <td>6.2</td>\n",
       "      <td>2596</td>\n",
       "    </tr>\n",
       "    <tr>\n",
       "      <th>3</th>\n",
       "      <td>tt0000006</td>\n",
       "      <td>5.1</td>\n",
       "      <td>177</td>\n",
       "    </tr>\n",
       "    <tr>\n",
       "      <th>4</th>\n",
       "      <td>tt0000007</td>\n",
       "      <td>5.4</td>\n",
       "      <td>815</td>\n",
       "    </tr>\n",
       "  </tbody>\n",
       "</table>\n",
       "</div>"
      ],
      "text/plain": [
       "      tconst  averageRating  numVotes\n",
       "0  tt0000001            5.7      1959\n",
       "1  tt0000002            5.8       263\n",
       "2  tt0000005            6.2      2596\n",
       "3  tt0000006            5.1       177\n",
       "4  tt0000007            5.4       815"
      ]
     },
     "execution_count": 24,
     "metadata": {},
     "output_type": "execute_result"
    }
   ],
   "source": [
    "# Using the to_csv() method to save the dataframe as a csv file\n",
    "ratings.to_csv(\"Data/title_ratings.cvs.gz\", compression='gzip', index=False)\n",
    "# Checking if csv file was created\n",
    "ratings = pd.read_csv(\"Data/title_ratings.cvs.gz\", low_memory=False)\n",
    "ratings.head()"
   ]
  },
  {
   "attachments": {},
   "cell_type": "markdown",
   "metadata": {},
   "source": [
    "- Before saving, run a final .info() for each of the dataframes to show a summary of how many movies remain and the datatypes of each feature"
   ]
  },
  {
   "cell_type": "code",
   "execution_count": 25,
   "metadata": {},
   "outputs": [
    {
     "name": "stdout",
     "output_type": "stream",
     "text": [
      "<class 'pandas.core.frame.DataFrame'>\n",
      "RangeIndex: 87052 entries, 0 to 87051\n",
      "Data columns (total 9 columns):\n",
      " #   Column          Non-Null Count  Dtype  \n",
      "---  ------          --------------  -----  \n",
      " 0   tconst          87052 non-null  object \n",
      " 1   titleType       87052 non-null  object \n",
      " 2   primaryTitle    87052 non-null  object \n",
      " 3   originalTitle   87052 non-null  object \n",
      " 4   isAdult         87052 non-null  int64  \n",
      " 5   startYear       87052 non-null  int64  \n",
      " 6   endYear         0 non-null      float64\n",
      " 7   runtimeMinutes  87052 non-null  int64  \n",
      " 8   genres          87052 non-null  object \n",
      "dtypes: float64(1), int64(3), object(5)\n",
      "memory usage: 6.0+ MB\n",
      "None\n",
      "<class 'pandas.core.frame.DataFrame'>\n",
      "RangeIndex: 1421195 entries, 0 to 1421194\n",
      "Data columns (total 8 columns):\n",
      " #   Column           Non-Null Count    Dtype  \n",
      "---  ------           --------------    -----  \n",
      " 0   titleId          1421195 non-null  object \n",
      " 1   ordering         1421195 non-null  int64  \n",
      " 2   title            1421195 non-null  object \n",
      " 3   region           1421195 non-null  object \n",
      " 4   language         3849 non-null     object \n",
      " 5   types            975623 non-null   object \n",
      " 6   attributes       46172 non-null    object \n",
      " 7   isOriginalTitle  1419850 non-null  float64\n",
      "dtypes: float64(1), int64(1), object(6)\n",
      "memory usage: 86.7+ MB\n",
      "None\n",
      "<class 'pandas.core.frame.DataFrame'>\n",
      "RangeIndex: 491923 entries, 0 to 491922\n",
      "Data columns (total 3 columns):\n",
      " #   Column         Non-Null Count   Dtype  \n",
      "---  ------         --------------   -----  \n",
      " 0   tconst         491923 non-null  object \n",
      " 1   averageRating  491923 non-null  float64\n",
      " 2   numVotes       491923 non-null  int64  \n",
      "dtypes: float64(1), int64(1), object(1)\n",
      "memory usage: 11.3+ MB\n",
      "None\n"
     ]
    }
   ],
   "source": [
    "print(basics.info())\n",
    "print(akas_df.info())\n",
    "print(ratings.info())"
   ]
  },
  {
   "cell_type": "code",
   "execution_count": 26,
   "metadata": {},
   "outputs": [
    {
     "data": {
      "text/plain": [
       "['final_tmdb_data_2000.csv.gz',\n",
       " 'final_tmdb_data_2001.csv.gz',\n",
       " 'title_akas_df.cvs.gz',\n",
       " 'title_basics_f.cvs.gz',\n",
       " 'title_ratings.cvs.gz',\n",
       " 'tmdb_api_results_2000.json',\n",
       " 'tmdb_api_results_2001.json']"
      ]
     },
     "execution_count": 26,
     "metadata": {},
     "output_type": "execute_result"
    }
   ],
   "source": [
    "FOLDER = 'Data/'\n",
    "os.makedirs(FOLDER, exist_ok=True)\n",
    "os.listdir(FOLDER)"
   ]
  },
  {
   "attachments": {},
   "cell_type": "markdown",
   "metadata": {},
   "source": [
    "# Using TMDB API to compare IMDB Movies"
   ]
  },
  {
   "attachments": {},
   "cell_type": "markdown",
   "metadata": {},
   "source": [
    "- I will be using TMDB API to extract data from their database to compare against the IMDB movies extracted from earlier data cleanign processes.\n",
    "\n",
    "> **NOTE:** This will only include movies made in the US."
   ]
  },
  {
   "cell_type": "code",
   "execution_count": 27,
   "metadata": {},
   "outputs": [],
   "source": [
    "# Using open() method to open .sercet file and load json file containing api key for tmdb\n",
    "with open(r\"C:\\Users\\zachd\\.secret\\tmdb_api.json\", 'r') as f:\n",
    "    api_key = json.load(f) # Loading json file with json module\n",
    "\n",
    "tmdb.API_KEY = api_key['api-key'] # Setting the api key to the tmdb module"
   ]
  },
  {
   "cell_type": "code",
   "execution_count": 28,
   "metadata": {},
   "outputs": [],
   "source": [
    "## Creating a function that takes in a movie id and returns a dictionary with the movie info and rating\n",
    "def get_movie_with_rating(movie_id):\n",
    "    # get the movie object for the current id\n",
    "    movie = tmdb.Movies(movie_id)\n",
    "    # save the .info .releases dictionaries\n",
    "    info = movie.info()\n",
    "    releases = movie.releases()\n",
    "    # Loop through countries in releases\n",
    "    for c in releases['countries']:\n",
    "        # if the country abbreviation==US\n",
    "        if c['iso_3166_1']=='US':\n",
    "            ## save a \"certification\" key in info with the certification\n",
    "            info['certification'] = c['certification']\n",
    "\n",
    "    return info"
   ]
  },
  {
   "cell_type": "code",
   "execution_count": 29,
   "metadata": {},
   "outputs": [],
   "source": [
    "# Creating a function that takes the new data and the filename and appends the new data to a json file\n",
    "def write_json(new_data, filename):\n",
    "    \"\"\"Appends a list of records (new_data) to a JSON file (filename).\n",
    "    Adapted from: https://www.geeksforgeeks.org/append-to-a-json-file-using-python/\n",
    "    \"\"\"\n",
    "    with open(filename, 'r+') as file:\n",
    "        # First we load existing data into a dict.\n",
    "        file_data = json.load(file)\n",
    "        ## choose extend or append\n",
    "        if (type(new_data) == list) & (type(file_data) == list):\n",
    "            file_data.extend(new_data)\n",
    "        else:\n",
    "            file_data.append(new_data)\n",
    "        # Sets file's current position at offset.\n",
    "        file.seek(0)\n",
    "        # convert back to json.\n",
    "        json.dump(file_data, file)"
   ]
  },
  {
   "cell_type": "code",
   "execution_count": 30,
   "metadata": {},
   "outputs": [
    {
     "data": {
      "application/vnd.jupyter.widget-view+json": {
       "model_id": "d73f3469970f4b60a5b85a8da2ffda85",
       "version_major": 2,
       "version_minor": 0
      },
      "text/plain": [
       "YEARS:   0%|          | 0/2 [00:00<?, ?it/s]"
      ]
     },
     "metadata": {},
     "output_type": "display_data"
    },
    {
     "data": {
      "application/vnd.jupyter.widget-view+json": {
       "model_id": "095f50bfed4444679c9de9de090b8074",
       "version_major": 2,
       "version_minor": 0
      },
      "text/plain": [
       "Movies from 2000:   0%|          | 0/210 [00:00<?, ?it/s]"
      ]
     },
     "metadata": {},
     "output_type": "display_data"
    },
    {
     "data": {
      "application/vnd.jupyter.widget-view+json": {
       "model_id": "fc0b96f681b9418cb72bec3c86a81174",
       "version_major": 2,
       "version_minor": 0
      },
      "text/plain": [
       "Movies from 2001:   0%|          | 0/245 [00:00<?, ?it/s]"
      ]
     },
     "metadata": {},
     "output_type": "display_data"
    },
    {
     "name": "stdout",
     "output_type": "stream",
     "text": [
      "- Number of errors: 455\n"
     ]
    }
   ],
   "source": [
    "# Using the read_csv() method to read the csv file into a dataframe\n",
    "basics = pd.read_csv(\"Data/title_basics_f.cvs.gz\", low_memory=False)\n",
    "# Seting the index for YEARS column\n",
    "YEARS_TO_GET = [2000, 2001]\n",
    "# Creating empty list to store the errors\n",
    "errors = []\n",
    "# Creating a for loop to iterate through the years\n",
    "for YEAR in tqdm(YEARS_TO_GET, desc='YEARS', position=0):\n",
    "    # Creating a variable to store the json file name\n",
    "    JSON_FILE = f'{FOLDER}tmdb_api_results_{YEAR}.json'\n",
    "    # Checking if the json file exists\n",
    "    file_exists = os.path.isfile(JSON_FILE)\n",
    "    # If the file does not exist, create it and add an empty list\n",
    "    if file_exists == False:\n",
    "        with open(JSON_FILE, 'w') as file:\n",
    "            json.dump([{'imdb_id':0}], file)\n",
    "    # Creating a variable to store the dataframe filtered by the year\n",
    "    df = basics.loc[basics['startYear']==YEAR].copy()\n",
    "    # Creating a variable to store the movie ids\n",
    "    movie_ids = df['tconst'].copy()\n",
    "    # Loading existing data from json into a daraframe called \"previous_df\"\n",
    "    previous_df = pd.read_json(JSON_FILE)\n",
    "    # Filter out any ids that are already in the JSON_FILE\n",
    "    movie_ids_to_get = movie_ids[~movie_ids.isin(previous_df['imdb_id'])]\n",
    "    # Get index and movie id from list\n",
    "    for movie_id in tqdm(movie_ids_to_get, desc=f'Movies from {YEAR}', position=1, leave=True):\n",
    "        try:\n",
    "            # Rtrieve then data for the movie id\n",
    "            temp = get_movie_with_rating(movie_id)\n",
    "            # Append/extend results to existing file using a pre-made function\n",
    "            write_json(temp, JSON_FILE)\n",
    "            # Short 20 ms sleep to prevent overwhelming server\n",
    "            time.sleep(0.2)\n",
    "        except Exception as e:\n",
    "            errors.append([movie_id, e])\n",
    "\n",
    "    # Read in the json file as a dataframe\n",
    "    final_yead_df = pd.read_json(JSON_FILE)\n",
    "    # Save the dataframe as a csv file\n",
    "    final_yead_df.to_csv(f'{FOLDER}final_tmdb_data_{YEAR}.csv.gz', compression=\"gzip\", index=False)\n",
    "\n",
    "print(f'- Number of errors: {len(errors)}')"
   ]
  },
  {
   "cell_type": "code",
   "execution_count": 31,
   "metadata": {},
   "outputs": [
    {
     "name": "stdout",
     "output_type": "stream",
     "text": [
      "     imdb_id  adult                     backdrop_path belongs_to_collection  \\\n",
      "0          0    NaN                               NaN                   NaN   \n",
      "1  tt0113026    0.0  /vMFs7nw6P0bIV1jDsQpxAieAVnH.jpg                   NaN   \n",
      "2  tt0113092    0.0                               NaN                   NaN   \n",
      "3  tt0116391    0.0                               NaN                   NaN   \n",
      "4  tt0118694    0.0  /n4GJFGzsc7NinI1VeGDXIcQjtU2.jpg                   NaN   \n",
      "\n",
      "       budget                                             genres homepage  \\\n",
      "0         NaN                                                NaN      NaN   \n",
      "1  10000000.0  [{'id': 35, 'name': 'Comedy'}, {'id': 10402, '...      NaN   \n",
      "2         0.0           [{'id': 878, 'name': 'Science Fiction'}]      NaN   \n",
      "3         0.0  [{'id': 18, 'name': 'Drama'}, {'id': 28, 'name...      NaN   \n",
      "4    150000.0  [{'id': 18, 'name': 'Drama'}, {'id': 10749, 'n...      NaN   \n",
      "\n",
      "         id original_language   original_title  ...     revenue  runtime  \\\n",
      "0       NaN               NaN              NaN  ...         NaN      NaN   \n",
      "1   62127.0                en  The Fantasticks  ...         0.0     86.0   \n",
      "2  110977.0                en    For the Cause  ...         0.0    100.0   \n",
      "3  442869.0                hi             Gang  ...         0.0    152.0   \n",
      "4     843.0                cn             花樣年華  ...  12854953.0     99.0   \n",
      "\n",
      "                                    spoken_languages    status  \\\n",
      "0                                                NaN       NaN   \n",
      "1  [{'english_name': 'English', 'iso_639_1': 'en'...  Released   \n",
      "2  [{'english_name': 'English', 'iso_639_1': 'en'...  Released   \n",
      "3  [{'english_name': 'Hindi', 'iso_639_1': 'hi', ...  Released   \n",
      "4  [{'english_name': 'Cantonese', 'iso_639_1': 'c...  Released   \n",
      "\n",
      "                                             tagline                 title  \\\n",
      "0                                                NaN                   NaN   \n",
      "1      Try to remember the first time magic happened       The Fantasticks   \n",
      "2       The ultimate showdown on a forbidden planet.         For the Cause   \n",
      "3                                                NaN                  Gang   \n",
      "4  Feel the heat, keep the feeling burning, let t...  In the Mood for Love   \n",
      "\n",
      "   video  vote_average vote_count certification  \n",
      "0    NaN           NaN        NaN           NaN  \n",
      "1    0.0          5.50       22.0           NaN  \n",
      "2    0.0          5.10        8.0           NaN  \n",
      "3    0.0          4.00        1.0           NaN  \n",
      "4    0.0          8.11     2142.0            PG  \n",
      "\n",
      "[5 rows x 26 columns]\n",
      "<class 'pandas.core.frame.DataFrame'>\n",
      "RangeIndex: 1229 entries, 0 to 1228\n",
      "Data columns (total 26 columns):\n",
      " #   Column                 Non-Null Count  Dtype  \n",
      "---  ------                 --------------  -----  \n",
      " 0   imdb_id                1229 non-null   object \n",
      " 1   adult                  1228 non-null   float64\n",
      " 2   backdrop_path          670 non-null    object \n",
      " 3   belongs_to_collection  112 non-null    object \n",
      " 4   budget                 1228 non-null   float64\n",
      " 5   genres                 1228 non-null   object \n",
      " 6   homepage               64 non-null     object \n",
      " 7   id                     1228 non-null   float64\n",
      " 8   original_language      1228 non-null   object \n",
      " 9   original_title         1228 non-null   object \n",
      " 10  overview               1204 non-null   object \n",
      " 11  popularity             1228 non-null   float64\n",
      " 12  poster_path            1105 non-null   object \n",
      " 13  production_companies   1228 non-null   object \n",
      " 14  production_countries   1228 non-null   object \n",
      " 15  release_date           1221 non-null   object \n",
      " 16  revenue                1228 non-null   float64\n",
      " 17  runtime                1228 non-null   float64\n",
      " 18  spoken_languages       1228 non-null   object \n",
      " 19  status                 1228 non-null   object \n",
      " 20  tagline                540 non-null    object \n",
      " 21  title                  1228 non-null   object \n",
      " 22  video                  1228 non-null   float64\n",
      " 23  vote_average           1228 non-null   float64\n",
      " 24  vote_count             1228 non-null   float64\n",
      " 25  certification          386 non-null    object \n",
      "dtypes: float64(9), object(17)\n",
      "memory usage: 249.8+ KB\n",
      "None\n"
     ]
    }
   ],
   "source": [
    "# Using the to_csv() method to save the dataframe as a csv file\n",
    "final_year_2000 = pd.read_csv(\"Data/final_tmdb_data_2000.csv.gz\", low_memory=False)\n",
    "print(final_year_2000.head())\n",
    "print(final_year_2000.info())"
   ]
  },
  {
   "cell_type": "code",
   "execution_count": 32,
   "metadata": {},
   "outputs": [
    {
     "name": "stdout",
     "output_type": "stream",
     "text": [
      "     imdb_id  adult                     backdrop_path belongs_to_collection  \\\n",
      "0          0    NaN                               NaN                   NaN   \n",
      "1  tt0035423    0.0  /hfeiSfWYujh6MKhtGTXyK3DD4nN.jpg                   NaN   \n",
      "2  tt0114447    0.0                               NaN                   NaN   \n",
      "3  tt0118589    0.0  /9NZAirJahVilTiDNCHLFcdkwkiy.jpg                   NaN   \n",
      "4  tt0118652    0.0  /mWxJEFRMvkG4UItYJkRDMgWQ08Y.jpg                   NaN   \n",
      "\n",
      "       budget                                             genres homepage  \\\n",
      "0         NaN                                                NaN      NaN   \n",
      "1  48000000.0  [{'id': 10749, 'name': 'Romance'}, {'id': 14, ...      NaN   \n",
      "2         0.0  [{'id': 53, 'name': 'Thriller'}, {'id': 28, 'n...      NaN   \n",
      "3  22000000.0  [{'id': 18, 'name': 'Drama'}, {'id': 10402, 'n...      NaN   \n",
      "4   1000000.0  [{'id': 27, 'name': 'Horror'}, {'id': 9648, 'n...      NaN   \n",
      "\n",
      "         id original_language         original_title  ...     revenue  \\\n",
      "0       NaN               NaN                    NaN  ...         NaN   \n",
      "1   11232.0                en         Kate & Leopold  ...  76019048.0   \n",
      "2  151007.0                en       The Silent Force  ...         0.0   \n",
      "3   10696.0                en                Glitter  ...   5271666.0   \n",
      "4   17140.0                en  The Attic Expeditions  ...         0.0   \n",
      "\n",
      "   runtime                                   spoken_languages    status  \\\n",
      "0      NaN                                                NaN       NaN   \n",
      "1    118.0  [{'english_name': 'English', 'iso_639_1': 'en'...  Released   \n",
      "2     90.0  [{'english_name': 'English', 'iso_639_1': 'en'...  Released   \n",
      "3    104.0  [{'english_name': 'English', 'iso_639_1': 'en'...  Released   \n",
      "4    100.0  [{'english_name': 'English', 'iso_639_1': 'en'...  Released   \n",
      "\n",
      "                                             tagline                  title  \\\n",
      "0                                                NaN                    NaN   \n",
      "1  If they lived in the same century, they'd be p...         Kate & Leopold   \n",
      "2  They left him for dead... They should have fin...       The Silent Force   \n",
      "3   In music she found her dream, her love, herself.                Glitter   \n",
      "4  His search for peace of mind... will leave his...  The Attic Expeditions   \n",
      "\n",
      "   video  vote_average vote_count certification  \n",
      "0    NaN           NaN        NaN           NaN  \n",
      "1    0.0           6.3     1179.0         PG-13  \n",
      "2    0.0           5.0        3.0           NaN  \n",
      "3    0.0           4.6      122.0         PG-13  \n",
      "4    0.0           5.1       29.0             R  \n",
      "\n",
      "[5 rows x 26 columns]\n",
      "<class 'pandas.core.frame.DataFrame'>\n",
      "RangeIndex: 1310 entries, 0 to 1309\n",
      "Data columns (total 26 columns):\n",
      " #   Column                 Non-Null Count  Dtype  \n",
      "---  ------                 --------------  -----  \n",
      " 0   imdb_id                1310 non-null   object \n",
      " 1   adult                  1309 non-null   float64\n",
      " 2   backdrop_path          689 non-null    object \n",
      " 3   belongs_to_collection  90 non-null     object \n",
      " 4   budget                 1309 non-null   float64\n",
      " 5   genres                 1309 non-null   object \n",
      " 6   homepage               105 non-null    object \n",
      " 7   id                     1309 non-null   float64\n",
      " 8   original_language      1309 non-null   object \n",
      " 9   original_title         1309 non-null   object \n",
      " 10  overview               1282 non-null   object \n",
      " 11  popularity             1309 non-null   float64\n",
      " 12  poster_path            1174 non-null   object \n",
      " 13  production_companies   1309 non-null   object \n",
      " 14  production_countries   1309 non-null   object \n",
      " 15  release_date           1300 non-null   object \n",
      " 16  revenue                1309 non-null   float64\n",
      " 17  runtime                1309 non-null   float64\n",
      " 18  spoken_languages       1309 non-null   object \n",
      " 19  status                 1309 non-null   object \n",
      " 20  tagline                544 non-null    object \n",
      " 21  title                  1309 non-null   object \n",
      " 22  video                  1309 non-null   float64\n",
      " 23  vote_average           1309 non-null   float64\n",
      " 24  vote_count             1309 non-null   float64\n",
      " 25  certification          421 non-null    object \n",
      "dtypes: float64(9), object(17)\n",
      "memory usage: 266.2+ KB\n",
      "None\n"
     ]
    }
   ],
   "source": [
    "# Using the to_csv() method to save the dataframe as a csv file\n",
    "final_year_2001 = pd.read_csv(\"Data/final_tmdb_data_2001.csv.gz\", low_memory=False)\n",
    "print(final_year_2001.head())\n",
    "print(final_year_2001.info())"
   ]
  }
 ],
 "metadata": {
  "kernelspec": {
   "display_name": "dojo-env",
   "language": "python",
   "name": "python3"
  },
  "language_info": {
   "codemirror_mode": {
    "name": "ipython",
    "version": 3
   },
   "file_extension": ".py",
   "mimetype": "text/x-python",
   "name": "python",
   "nbconvert_exporter": "python",
   "pygments_lexer": "ipython3",
   "version": "3.9.15"
  },
  "orig_nbformat": 4,
  "vscode": {
   "interpreter": {
    "hash": "4b31512f92221b1229e52ed4f26b9fed1a2ab2027382c38a12d18717dccb8195"
   }
  }
 },
 "nbformat": 4,
 "nbformat_minor": 2
}
