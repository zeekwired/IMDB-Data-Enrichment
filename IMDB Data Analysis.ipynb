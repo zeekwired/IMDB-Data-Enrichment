{
 "cells": [
  {
   "cell_type": "code",
   "execution_count": 112,
   "metadata": {},
   "outputs": [],
   "source": [
    "import pandas as pd\n",
    "import numpy as np\n",
    "import pymysql\n",
    "pymysql.install_as_MySQLdb()\n",
    "from sqlalchemy import create_engine"
   ]
  },
  {
   "cell_type": "code",
   "execution_count": 98,
   "metadata": {},
   "outputs": [],
   "source": [
    "basic = 'https://datasets.imdbws.com/title.basics.tsv.gz'\n",
    "akas = 'https://datasets.imdbws.com/title.akas.tsv.gz'\n",
    "rating = 'https://datasets.imdbws.com/title.ratings.tsv.gz'"
   ]
  },
  {
   "cell_type": "code",
   "execution_count": 99,
   "metadata": {},
   "outputs": [],
   "source": [
    "basics = pd.read_csv(basic, sep='\\t', low_memory=False)\n",
    "akas_df = pd.read_csv(akas, sep='\\t', low_memory=False)\n",
    "ratings = pd.read_csv(rating, sep='\\t', low_memory=False)"
   ]
  },
  {
   "cell_type": "markdown",
   "metadata": {},
   "source": [
    "# Filtering/Cleaning"
   ]
  },
  {
   "attachments": {},
   "cell_type": "markdown",
   "metadata": {},
   "source": [
    "- For this project I want to break down each dataset into 3 parts. This will allow me to make the code more readable for the user."
   ]
  },
  {
   "cell_type": "code",
   "execution_count": 100,
   "metadata": {},
   "outputs": [],
   "source": [
    "# Creating a function that evaluates a given dataset\n",
    "def eval_df(df):\n",
    "    print(f'Dataset Information Eval: \\n{df.info(memory_usage=True, show_counts=True)}\\n')\n",
    "    print(f'Columns with NULL values: \\n{df.isna().sum()}\\n')\n",
    "    print(f'Duplicated: \\n{df.duplicated().sum()}')"
   ]
  },
  {
   "cell_type": "code",
   "execution_count": 101,
   "metadata": {},
   "outputs": [],
   "source": [
    "# Creating function that removes NAN and Duplicated values \n",
    "def remove_nan_and_duplicates(df):\n",
    "    df = df.dropna()\n",
    "    print(f'Null Values Remaining: \\n{df.isna().sum()}\\n')\n",
    "    df = df.drop_duplicates()\n",
    "    print(f'Duplicated Values Removed: \\n{df.duplicated().sum()}')\n",
    "    "
   ]
  },
  {
   "cell_type": "code",
   "execution_count": 102,
   "metadata": {},
   "outputs": [
    {
     "name": "stdout",
     "output_type": "stream",
     "text": [
      "<class 'pandas.core.frame.DataFrame'>\n",
      "RangeIndex: 9631839 entries, 0 to 9631838\n",
      "Data columns (total 9 columns):\n",
      " #   Column          Non-Null Count    Dtype \n",
      "---  ------          --------------    ----- \n",
      " 0   tconst          9631839 non-null  object\n",
      " 1   titleType       9631839 non-null  object\n",
      " 2   primaryTitle    9631828 non-null  object\n",
      " 3   originalTitle   9631828 non-null  object\n",
      " 4   isAdult         9631839 non-null  object\n",
      " 5   startYear       9631839 non-null  object\n",
      " 6   endYear         9631839 non-null  object\n",
      " 7   runtimeMinutes  9631839 non-null  object\n",
      " 8   genres          9631829 non-null  object\n",
      "dtypes: object(9)\n",
      "memory usage: 661.4+ MB\n",
      "Dataset Information Eval: \n",
      "None\n",
      "\n",
      "Columns with NULL values: \n",
      "tconst             0\n",
      "titleType          0\n",
      "primaryTitle      11\n",
      "originalTitle     11\n",
      "isAdult            0\n",
      "startYear          0\n",
      "endYear            0\n",
      "runtimeMinutes     0\n",
      "genres            10\n",
      "dtype: int64\n",
      "\n",
      "Duplicated: \n",
      "0\n"
     ]
    }
   ],
   "source": [
    "eval_df(basics)"
   ]
  },
  {
   "cell_type": "code",
   "execution_count": 103,
   "metadata": {},
   "outputs": [
    {
     "name": "stdout",
     "output_type": "stream",
     "text": [
      "Null Values Remaining: \n",
      "tconst            0\n",
      "titleType         0\n",
      "primaryTitle      0\n",
      "originalTitle     0\n",
      "isAdult           0\n",
      "startYear         0\n",
      "endYear           0\n",
      "runtimeMinutes    0\n",
      "genres            0\n",
      "dtype: int64\n",
      "\n",
      "Duplicated Values Removed: \n",
      "0\n"
     ]
    }
   ],
   "source": [
    "remove_nan_and_duplicates(basics)"
   ]
  },
  {
   "cell_type": "code",
   "execution_count": 104,
   "metadata": {},
   "outputs": [
    {
     "data": {
      "text/plain": [
       "tconst      titleType  primaryTitle                 originalTitle                isAdult  startYear  endYear  runtimeMinutes  genres                    \n",
       "tt0000001   short      Carmencita                   Carmencita                   0        1894       \\N       1               Documentary,Short             1\n",
       "tt2743722   tvEpisode  Episode dated 28 April 1998  Episode dated 28 April 1998  0        1998       \\N       \\N              News                          1\n",
       "tt2743690   tvEpisode  Episode dated 6 April 1998   Episode dated 6 April 1998   0        1998       \\N       \\N              News                          1\n",
       "tt2743692   tvEpisode  Episode dated 7 April 1998   Episode dated 7 April 1998   0        1998       \\N       \\N              News                          1\n",
       "tt2743694   tvEpisode  Episode dated 8 April 1998   Episode dated 8 April 1998   0        1998       \\N       \\N              News                          1\n",
       "                                                                                                                                                           ..\n",
       "tt14093792  tvEpisode  Episode #1.5919              Episode #1.5919              0        \\N         \\N       60              Talk-Show                     1\n",
       "tt14093794  tvEpisode  Episode #1.19                Episode #1.19                0        2021       \\N       85              Action,Comedy,Crime           1\n",
       "tt14093796  short      Crescendo in Dynamo          Crescendo in Dynamo          0        2018       \\N       4               Short                         1\n",
       "tt14093798  tvEpisode  Episode #1.5920              Episode #1.5920              0        \\N         \\N       60              Talk-Show                     1\n",
       "tt9916880   tvEpisode  Horrid Henry Knows It All    Horrid Henry Knows It All    0        2014       \\N       10              Adventure,Animation,Comedy    1\n",
       "Length: 9631818, dtype: int64"
      ]
     },
     "execution_count": 104,
     "metadata": {},
     "output_type": "execute_result"
    }
   ],
   "source": [
    "basics.value_counts()"
   ]
  },
  {
   "cell_type": "code",
   "execution_count": 105,
   "metadata": {},
   "outputs": [],
   "source": [
    "basics.replace({'\\\\N':np.nan}, inplace=True)"
   ]
  },
  {
   "cell_type": "code",
   "execution_count": 106,
   "metadata": {},
   "outputs": [
    {
     "data": {
      "text/plain": [
       "tconst            0\n",
       "titleType         0\n",
       "primaryTitle      0\n",
       "originalTitle     0\n",
       "isAdult           0\n",
       "startYear         0\n",
       "endYear           0\n",
       "runtimeMinutes    0\n",
       "genres            0\n",
       "dtype: int64"
      ]
     },
     "execution_count": 106,
     "metadata": {},
     "output_type": "execute_result"
    }
   ],
   "source": [
    "basics.isin(['\\\\N']).sum()"
   ]
  },
  {
   "cell_type": "code",
   "execution_count": 107,
   "metadata": {},
   "outputs": [
    {
     "data": {
      "text/plain": [
       "tconst                  0\n",
       "titleType               0\n",
       "primaryTitle           11\n",
       "originalTitle          11\n",
       "isAdult                 1\n",
       "startYear         1303058\n",
       "endYear           9528911\n",
       "runtimeMinutes    6809952\n",
       "genres             435532\n",
       "dtype: int64"
      ]
     },
     "execution_count": 107,
     "metadata": {},
     "output_type": "execute_result"
    }
   ],
   "source": [
    "basics.isna().sum()"
   ]
  },
  {
   "cell_type": "code",
   "execution_count": 108,
   "metadata": {},
   "outputs": [],
   "source": [
    "basics.dropna(subset=['runtimeMinutes', 'genres'], inplace=True)"
   ]
  },
  {
   "cell_type": "code",
   "execution_count": 109,
   "metadata": {},
   "outputs": [
    {
     "data": {
      "text/plain": [
       "tconst                  0\n",
       "titleType               0\n",
       "primaryTitle            1\n",
       "originalTitle           1\n",
       "isAdult                 0\n",
       "startYear          158369\n",
       "endYear           2697861\n",
       "runtimeMinutes          0\n",
       "genres                  0\n",
       "dtype: int64"
      ]
     },
     "execution_count": 109,
     "metadata": {},
     "output_type": "execute_result"
    }
   ],
   "source": [
    "basics.isna().sum()"
   ]
  },
  {
   "cell_type": "code",
   "execution_count": 110,
   "metadata": {},
   "outputs": [],
   "source": [
    "basics['startYear'] = basics['startYear'].astype(float)"
   ]
  },
  {
   "cell_type": "code",
   "execution_count": 111,
   "metadata": {},
   "outputs": [
    {
     "data": {
      "text/plain": [
       "tconst      titleType  primaryTitle                  originalTitle                 isAdult  startYear  endYear  runtimeMinutes  genres           \n",
       "tt0025509   tvSeries   Les Misérables                Les misérables                0        1934.0     1934     279             Drama                1\n",
       "tt2263743   tvSeries   Mountain Man                  Mountain Man                  0        2009.0     2010     11              Adventure            1\n",
       "tt2262420   tvSeries   Plano Wired                   Plano Wired                   0        2006.0     2011     30              News                 1\n",
       "tt2262456   tvSeries   The Hollow Crown              The Hollow Crown              0        2012.0     2016     150             Drama,History,War    1\n",
       "tt2262521   tvSeries   A Thousand Days' Promise      A Thousand Days' Promise      0        2011.0     2011     65              Drama,Romance        1\n",
       "                                                                                                                                                    ..\n",
       "tt10402962  tvSeries   Strawberry Shortcake          Strawberry Shortcake          0        1980.0     1988     22              Animation            1\n",
       "tt10403154  tvSeries   Punch                         Punch                         0        2019.0     2019     50              Drama                1\n",
       "tt10403508  tvSeries   Merman Academy                Merman Academy                0        2015.0     2018     15              Comedy,Fantasy       1\n",
       "tt10403718  tvSeries   Hollywood Junior Circus       Hollywood Junior Circus       0        1951.0     1952     30              Family               1\n",
       "tt9916216   tvSeries   Kalyanam Mudhal Kadhal Varai  Kalyanam Mudhal Kadhal Varai  0        2014.0     2017     22              Romance              1\n",
       "Length: 48445, dtype: int64"
      ]
     },
     "execution_count": 111,
     "metadata": {},
     "output_type": "execute_result"
    }
   ],
   "source": [
    "basics.value_counts()"
   ]
  }
 ],
 "metadata": {
  "kernelspec": {
   "display_name": "dojo-env",
   "language": "python",
   "name": "python3"
  },
  "language_info": {
   "codemirror_mode": {
    "name": "ipython",
    "version": 3
   },
   "file_extension": ".py",
   "mimetype": "text/x-python",
   "name": "python",
   "nbconvert_exporter": "python",
   "pygments_lexer": "ipython3",
   "version": "3.9.15"
  },
  "orig_nbformat": 4,
  "vscode": {
   "interpreter": {
    "hash": "4b31512f92221b1229e52ed4f26b9fed1a2ab2027382c38a12d18717dccb8195"
   }
  }
 },
 "nbformat": 4,
 "nbformat_minor": 2
}
